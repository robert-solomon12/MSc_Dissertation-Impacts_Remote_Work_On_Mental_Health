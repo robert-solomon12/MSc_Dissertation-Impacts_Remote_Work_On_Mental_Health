{
 "cells": [
  {
   "cell_type": "markdown",
   "id": "d1aaceb2-36fb-4982-a989-5540dcab38de",
   "metadata": {},
   "source": [
    "# MSc. Dissertation - DataScience By Robert Solomon\n",
    "### Analysis of Remote Work Impact on Employee Well-Being (Cleaned Primary Dataset)"
   ]
  },
  {
   "cell_type": "markdown",
   "id": "0862068a-443d-42ca-800e-e9c106e71767",
   "metadata": {},
   "source": []
  },
  {
   "cell_type": "code",
   "execution_count": 46,
   "id": "d03449eb-98cc-4548-9941-a24d66f2ee79",
   "metadata": {},
   "outputs": [],
   "source": [
    "# Importing necessary libraries here below:\n",
    "\n",
    "import numpy as np\n",
    "import pandas as pd\n",
    "import scipy.stats as stats\n",
    "from scipy.stats import f_oneway\n",
    "import statsmodels.api as sm\n",
    "from statsmodels.formula.api import ols"
   ]
  },
  {
   "cell_type": "markdown",
   "id": "00781d4a-b2e2-4257-b004-0b1dd1d5b475",
   "metadata": {},
   "source": [
    "### 1. Loading in the primary survey data"
   ]
  },
  {
   "cell_type": "code",
   "execution_count": 34,
   "id": "97acdc56-a9ab-4563-b60d-093ee73bdd2e",
   "metadata": {},
   "outputs": [],
   "source": [
    "# Loading cleaned dataset\n",
    "wfh_cleanedMentalHealth_surveyData = pd.read_csv('../Primary_Research/PR_Dataset/cleaned_WFH-Mental_Health_(Survey).csv')"
   ]
  },
  {
   "cell_type": "code",
   "execution_count": 36,
   "id": "6ddadd5b-7436-4d0a-902d-98b2365b9f68",
   "metadata": {},
   "outputs": [
    {
     "data": {
      "text/html": [
       "<div>\n",
       "<style scoped>\n",
       "    .dataframe tbody tr th:only-of-type {\n",
       "        vertical-align: middle;\n",
       "    }\n",
       "\n",
       "    .dataframe tbody tr th {\n",
       "        vertical-align: top;\n",
       "    }\n",
       "\n",
       "    .dataframe thead th {\n",
       "        text-align: right;\n",
       "    }\n",
       "</style>\n",
       "<table border=\"1\" class=\"dataframe\">\n",
       "  <thead>\n",
       "    <tr style=\"text-align: right;\">\n",
       "      <th></th>\n",
       "      <th>Timestamp</th>\n",
       "      <th>Age_Group</th>\n",
       "      <th>Gender</th>\n",
       "      <th>Work_Location</th>\n",
       "      <th>Industry</th>\n",
       "      <th>Work_Life_Balance</th>\n",
       "      <th>Weekly_Hours_Worked</th>\n",
       "      <th>Stress_Level</th>\n",
       "      <th>Stress_Factors</th>\n",
       "      <th>Social_Isolation_Frequency</th>\n",
       "      <th>Lack_Of_Team_Connection</th>\n",
       "      <th>Employer_Mental_Health_Support</th>\n",
       "      <th>Mental_Health_Recommendations</th>\n",
       "      <th>stress_score</th>\n",
       "    </tr>\n",
       "  </thead>\n",
       "  <tbody>\n",
       "    <tr>\n",
       "      <th>0</th>\n",
       "      <td>2025/01/27 12:02:17 PM GMT</td>\n",
       "      <td>25–34</td>\n",
       "      <td>0</td>\n",
       "      <td>NaN</td>\n",
       "      <td>IT/Technology</td>\n",
       "      <td>4</td>\n",
       "      <td>35</td>\n",
       "      <td>4</td>\n",
       "      <td>Isolation from colleagues</td>\n",
       "      <td>1.0</td>\n",
       "      <td>1.0</td>\n",
       "      <td>2</td>\n",
       "      <td>Stop remote work and have people come into the...</td>\n",
       "      <td>3.0</td>\n",
       "    </tr>\n",
       "    <tr>\n",
       "      <th>1</th>\n",
       "      <td>2025/01/27 12:02:39 PM GMT</td>\n",
       "      <td>25–34</td>\n",
       "      <td>0</td>\n",
       "      <td>1.0</td>\n",
       "      <td>IT/Technology</td>\n",
       "      <td>5</td>\n",
       "      <td>40</td>\n",
       "      <td>5</td>\n",
       "      <td>Lack of clarity about whether I will be forced...</td>\n",
       "      <td>2.0</td>\n",
       "      <td>0.0</td>\n",
       "      <td>1</td>\n",
       "      <td>No Response</td>\n",
       "      <td>3.0</td>\n",
       "    </tr>\n",
       "    <tr>\n",
       "      <th>2</th>\n",
       "      <td>2025/01/27 12:11:36 PM GMT</td>\n",
       "      <td>35–44</td>\n",
       "      <td>0</td>\n",
       "      <td>1.0</td>\n",
       "      <td>IT/Technology</td>\n",
       "      <td>5</td>\n",
       "      <td>39</td>\n",
       "      <td>5</td>\n",
       "      <td>Other (please specify);Less commute / Less tim...</td>\n",
       "      <td>3.0</td>\n",
       "      <td>0.0</td>\n",
       "      <td>3</td>\n",
       "      <td>Regional hot desk options at some of the many ...</td>\n",
       "      <td>2.0</td>\n",
       "    </tr>\n",
       "    <tr>\n",
       "      <th>3</th>\n",
       "      <td>2025/01/27 12:14:54 PM GMT</td>\n",
       "      <td>45–54</td>\n",
       "      <td>0</td>\n",
       "      <td>1.0</td>\n",
       "      <td>IT/Technology</td>\n",
       "      <td>5</td>\n",
       "      <td>39</td>\n",
       "      <td>5</td>\n",
       "      <td>On call over weekends</td>\n",
       "      <td>3.0</td>\n",
       "      <td>0.0</td>\n",
       "      <td>3</td>\n",
       "      <td>Occasional lunchtime meetups if enough people ...</td>\n",
       "      <td>2.0</td>\n",
       "    </tr>\n",
       "    <tr>\n",
       "      <th>4</th>\n",
       "      <td>2025/01/27 12:25:24 PM GMT</td>\n",
       "      <td>35–44</td>\n",
       "      <td>1</td>\n",
       "      <td>1.0</td>\n",
       "      <td>IT/Technology</td>\n",
       "      <td>2</td>\n",
       "      <td>9</td>\n",
       "      <td>2</td>\n",
       "      <td>Increased workload</td>\n",
       "      <td>4.0</td>\n",
       "      <td>0.0</td>\n",
       "      <td>3</td>\n",
       "      <td>Add remote workers team lead to identify possi...</td>\n",
       "      <td>-2.0</td>\n",
       "    </tr>\n",
       "  </tbody>\n",
       "</table>\n",
       "</div>"
      ],
      "text/plain": [
       "                    Timestamp Age_Group  Gender  Work_Location       Industry  \\\n",
       "0  2025/01/27 12:02:17 PM GMT     25–34       0            NaN  IT/Technology   \n",
       "1  2025/01/27 12:02:39 PM GMT     25–34       0            1.0  IT/Technology   \n",
       "2  2025/01/27 12:11:36 PM GMT     35–44       0            1.0  IT/Technology   \n",
       "3  2025/01/27 12:14:54 PM GMT     45–54       0            1.0  IT/Technology   \n",
       "4  2025/01/27 12:25:24 PM GMT     35–44       1            1.0  IT/Technology   \n",
       "\n",
       "   Work_Life_Balance Weekly_Hours_Worked  Stress_Level  \\\n",
       "0                  4                  35             4   \n",
       "1                  5                  40             5   \n",
       "2                  5                  39             5   \n",
       "3                  5                  39             5   \n",
       "4                  2                   9             2   \n",
       "\n",
       "                                      Stress_Factors  \\\n",
       "0                          Isolation from colleagues   \n",
       "1  Lack of clarity about whether I will be forced...   \n",
       "2  Other (please specify);Less commute / Less tim...   \n",
       "3                              On call over weekends   \n",
       "4                                 Increased workload   \n",
       "\n",
       "   Social_Isolation_Frequency  Lack_Of_Team_Connection  \\\n",
       "0                         1.0                      1.0   \n",
       "1                         2.0                      0.0   \n",
       "2                         3.0                      0.0   \n",
       "3                         3.0                      0.0   \n",
       "4                         4.0                      0.0   \n",
       "\n",
       "   Employer_Mental_Health_Support  \\\n",
       "0                               2   \n",
       "1                               1   \n",
       "2                               3   \n",
       "3                               3   \n",
       "4                               3   \n",
       "\n",
       "                       Mental_Health_Recommendations  stress_score  \n",
       "0  Stop remote work and have people come into the...           3.0  \n",
       "1                                        No Response           3.0  \n",
       "2  Regional hot desk options at some of the many ...           2.0  \n",
       "3  Occasional lunchtime meetups if enough people ...           2.0  \n",
       "4  Add remote workers team lead to identify possi...          -2.0  "
      ]
     },
     "execution_count": 36,
     "metadata": {},
     "output_type": "execute_result"
    }
   ],
   "source": [
    "# Displaying the first few rows to inspect the data\n",
    "wfh_cleanedMentalHealth_surveyData.head()"
   ]
  },
  {
   "cell_type": "raw",
   "id": "41ecbf0e-46c5-4ed7-bec5-99dc2d910630",
   "metadata": {},
   "source": [
    "Remote': 1, 'Hybrid': 2, 'On-site': 3"
   ]
  },
  {
   "cell_type": "markdown",
   "id": "526bb3cb-567c-4768-812e-f2f32117d535",
   "metadata": {},
   "source": [
    "### 2. Grouping stress levels by work location"
   ]
  },
  {
   "cell_type": "code",
   "execution_count": 41,
   "id": "2800fa54-f49b-4d6c-9a4a-90381e4a42c9",
   "metadata": {
    "scrolled": true
   },
   "outputs": [],
   "source": [
    "remote_stress = wfh_cleanedMentalHealth_surveyData[wfh_cleanedMentalHealth_surveyData['Work_Location'] == 1.0]['Stress_Level']\n",
    "hybrid_stress = wfh_cleanedMentalHealth_surveyData[wfh_cleanedMentalHealth_surveyData['Work_Location'] == 2.0]['Stress_Level']\n",
    "onsite_stress = wfh_cleanedMentalHealth_surveyData[wfh_cleanedMentalHealth_surveyData['Work_Location'] == 3.0]['Stress_Level']"
   ]
  },
  {
   "cell_type": "markdown",
   "id": "4d7156a6-5524-4aa2-8680-f16f9acc9b52",
   "metadata": {},
   "source": [
    "### 2.1 Performing one-way ANOVA (for Work Location and Stress Levels) for Primary Data"
   ]
  },
  {
   "cell_type": "code",
   "execution_count": 48,
   "id": "aae63d8c-bf0f-4b01-a159-5f2ce48a9cd0",
   "metadata": {},
   "outputs": [],
   "source": [
    "anova_result = stats.f_oneway(remote_stress, hybrid_stress, onsite_stress)"
   ]
  },
  {
   "cell_type": "code",
   "execution_count": 50,
   "id": "6aa6337d-3eef-4ab1-9749-c5a64cf61187",
   "metadata": {},
   "outputs": [
    {
     "name": "stdout",
     "output_type": "stream",
     "text": [
      "One-Way ANOVA Results for Work Location and Stress Levels\n",
      "F-statistic: 1.6206, p-value: 0.2105\n",
      "Result: No significant difference in stress levels across work locations.\n"
     ]
    }
   ],
   "source": [
    "# Printing the results\n",
    "print(\"One-Way ANOVA Results for Work Location and Stress Levels\")\n",
    "print(f\"F-statistic: {anova_result.statistic:.4f}, p-value: {anova_result.pvalue:.4f}\")\n",
    "\n",
    "# Interpreting the results\n",
    "if anova_result.pvalue < 0.05:\n",
    "    print(\"Result: Significant difference found in stress levels across work locations.\")\n",
    "else:\n",
    "    print(\"Result: No significant difference in stress levels across work locations.\")"
   ]
  },
  {
   "cell_type": "markdown",
   "id": "2cd687a4-0f17-4689-9abc-5830dcc3b886",
   "metadata": {},
   "source": [
    "### 2.1.1 Interpretation of the above Output\n",
    "If p-value < 0.05, we reject the null hypothesis, meaning stress levels differ significantly across remote, hybrid, and onsite workers.\n",
    "If p-value ≥ 0.05, we fail to reject the null hypothesis, meaning stress levels are not significantly different between work types which in this case appear to be the case."
   ]
  }
 ],
 "metadata": {
  "kernelspec": {
   "display_name": "Python 3 (ipykernel)",
   "language": "python",
   "name": "python3"
  },
  "language_info": {
   "codemirror_mode": {
    "name": "ipython",
    "version": 3
   },
   "file_extension": ".py",
   "mimetype": "text/x-python",
   "name": "python",
   "nbconvert_exporter": "python",
   "pygments_lexer": "ipython3",
   "version": "3.11.7"
  }
 },
 "nbformat": 4,
 "nbformat_minor": 5
}
